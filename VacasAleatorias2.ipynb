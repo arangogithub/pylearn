{
 "cells": [
  {
   "cell_type": "markdown",
   "metadata": {},
   "source": [
    "# Modelo estocástico para población de ganado vacuno de engorde"
   ]
  },
  {
   "cell_type": "code",
   "execution_count": 1,
   "metadata": {},
   "outputs": [],
   "source": [
    "import numpy as np\n",
    "import matplotlib.pyplot as plt\n",
    "import itertools as it"
   ]
  },
  {
   "cell_type": "markdown",
   "metadata": {},
   "source": [
    "## Parámetros \n",
    "\n",
    "### Para variables normalmente distribuidas\n",
    "\n",
    "<span style=\"color:red\"> *muMsex, sigmaMsex:* </span>\n",
    "media y desviación estándar del tiempo de madures sexual medido en meses\n",
    "\n",
    "<span style=\"color:red\"> *muTep, sigmaTep:* </span>\n",
    "media y desviación estándar del tiempo del tiempo entre partos de una vaca\n",
    "\n",
    "<span style=\"color:red\"> *muNp, sigmaNp:* </span>\n",
    "media y desviación estándar del tiempo del número de partos de una vaca. \n",
    "Se redondea a un numero entero no negativo\n",
    "\n",
    "### Para variables binomiales\n",
    "<span style=\"color:red\"> *proH*  </span>: probabilidad de nacer hembra\n"
   ]
  },
  {
   "cell_type": "code",
   "execution_count": 2,
   "metadata": {},
   "outputs": [],
   "source": [
    "muMsex, sigmaMsex = 23, 0.75\n",
    "muTep, sigmaTep = 12, 0.5\n",
    "muNp, sigmaNp = 10, 1\n",
    "proH = 0.499"
   ]
  },
  {
   "cell_type": "code",
   "execution_count": 3,
   "metadata": {},
   "outputs": [],
   "source": [
    "def desc():\n",
    "    numP = int(np.random.normal(muNp, sigmaNp))\n",
    "    mS = np.random.normal(muMsex, sigmaMsex)\n",
    "    z = np.random.normal(muTep, sigmaTep,numP)\n",
    "    sex = np.random.binomial(size=numP, n =1, p = 0.495)\n",
    "    z = mS+np.cumsum(z)\n",
    "    return [ [z[i], sex[i]] for i in range(numP)]\n"
   ]
  },
  {
   "cell_type": "code",
   "execution_count": 4,
   "metadata": {},
   "outputs": [],
   "source": [
    "def trayectoria(x):\n",
    "    ''' \n",
    "    Input x:   es la fecha de nacimieto de la vaca. \n",
    "    Output: [t, hembras, machos]: t es el tiempo de vida de la vaca, hembras y machos son listas \n",
    "    de fechas de nacimiento los decendientes terneros y terneras respecitvamente  \n",
    "    ''' \n",
    "    ds = desc()\n",
    "    machos = [ z[0] + x for z in ds if z[1]==0]\n",
    "    hembras = [ z[0] + x for z in ds if z[1]==1]\n",
    "    return [ds[-1][0], hembras, machos]"
   ]
  },
  {
   "cell_type": "code",
   "execution_count": 5,
   "metadata": {},
   "outputs": [],
   "source": [
    "def descendientes(hmb):\n",
    "    ''' \n",
    "    Input hmb:   lista de fechas de nacimiento de hembras. \n",
    "    Output: [tvida, hmb_des, mch_des]\n",
    "    tvida:  lista del tiempo de vida de cada hembra en hmb, \n",
    "    hmb_des, mch_des: listas  de fechas de nacimiento de  terneros y terneras respecitvamente \n",
    "    descendientes del rebaño de hembras hmb\n",
    "    '''\n",
    "    aux = [trayectoria(x) for x in hmb]\n",
    "    tvida =  [a[0] for a in aux]\n",
    "    h_aux = [a[1] for a in aux]\n",
    "    m_aux = [a[2] for a in aux]\n",
    "    hmb_des = list(it.chain.from_iterable(h_aux))\n",
    "    mch_des = list(it.chain.from_iterable(m_aux))\n",
    "    return [tvida, hmb_des, mch_des]    "
   ]
  },
  {
   "cell_type": "code",
   "execution_count": 10,
   "metadata": {},
   "outputs": [],
   "source": [
    "def nuevaG(l,h, m):\n",
    "    z = descendientes(h)\n",
    "    ll = l+ list(zip(h,z[0]))\n",
    "    hh = z[1]\n",
    "    mm  = m + z[2]\n",
    "    return (ll,hh,mm)\n",
    "    "
   ]
  },
  {
   "cell_type": "code",
   "execution_count": 15,
   "metadata": {},
   "outputs": [],
   "source": [
    "def iterar(n):\n",
    "    contador = 0\n",
    "    z = trayectoria(0)\n",
    "    hmb = z[1]\n",
    "    mch = z[2]\n",
    "    listaH = [(0, z[0])]\n",
    "    while contador < n+ 1:\n",
    "        tm = max(max(hmb), max(mch))\n",
    "        listaH, hmb, mch = nuevaG(listaH, hmb, mch)\n",
    "        listaH, hmb, mch = nuevaG(listaH, hmb, mch)\n",
    "        contador = contador + 1   \n",
    "    return (tm, listaH,  mch)"
   ]
  },
  {
   "cell_type": "code",
   "execution_count": 16,
   "metadata": {},
   "outputs": [],
   "source": [
    "def filtro(t, lH,  M):\n",
    "    LH = [ x for x in lH  if (x[0] + x[1] > t) & (x[0]< t)]\n",
    "    MM = [ x for x in M if ((x + 24 > t) & (x < t))]\n",
    "    return [LH,  MM]    "
   ]
  },
  {
   "cell_type": "code",
   "execution_count": 18,
   "metadata": {},
   "outputs": [
    {
     "data": {
      "text/plain": [
       "984.8842619370578"
      ]
     },
     "execution_count": 18,
     "metadata": {},
     "output_type": "execute_result"
    }
   ],
   "source": [
    "t, lH,  M = iterar(3)\n",
    "t"
   ]
  },
  {
   "cell_type": "code",
   "execution_count": 19,
   "metadata": {},
   "outputs": [
    {
     "data": {
      "text/plain": [
       "82.07368849475482"
      ]
     },
     "execution_count": 19,
     "metadata": {},
     "output_type": "execute_result"
    }
   ],
   "source": [
    "t/12"
   ]
  },
  {
   "cell_type": "code",
   "execution_count": 20,
   "metadata": {},
   "outputs": [],
   "source": [
    "def hato(s):\n",
    "    w = filtro(s, lH, M)\n",
    "    return  len(w[0]) "
   ]
  },
  {
   "cell_type": "code",
   "execution_count": 23,
   "metadata": {},
   "outputs": [],
   "source": [
    "ejex = np.linspace(0, t/2, 100)"
   ]
  },
  {
   "cell_type": "code",
   "execution_count": 27,
   "metadata": {},
   "outputs": [],
   "source": [
    "\n",
    "ejey3 =[hato(s) for s in ejex ] \n",
    "#ejey1 =[hato(s) for s in ejex] "
   ]
  },
  {
   "cell_type": "code",
   "execution_count": 28,
   "metadata": {},
   "outputs": [
    {
     "data": {
      "image/png": "[encoded data removed]",
      "text/plain": [
       "<Figure size 2160x720 with 1 Axes>"
      ]
     },
     "metadata": {},
     "output_type": "display_data"
    }
   ],
   "source": [
    "\n",
    "fig = plt.figure(figsize=(30,10))\n",
    "ax = fig.add_subplot(111)\n",
    "ax.scatter(ejex, ejey0, lw = 2 )\n",
    "ax.scatter(ejex, ejey1, lw = 2 )\n",
    "ax.scatter(ejex, ejey2, lw = 2 )\n",
    "ax.scatter(ejex, ejey3, lw = 2 )\n",
    "#ax.scatter(ejex, ejey4, lw = 2 )\n",
    "#ax.scatter(ejex, ejey5, lw = 2 )\n",
    "plt.show()"
   ]
  },
  {
   "cell_type": "code",
   "execution_count": null,
   "metadata": {},
   "outputs": [],
   "source": [
    "w[0]"
   ]
  },
  {
   "cell_type": "code",
   "execution_count": null,
   "metadata": {},
   "outputs": [],
   "source": [
    "w[1]"
   ]
  },
  {
   "cell_type": "code",
   "execution_count": null,
   "metadata": {},
   "outputs": [],
   "source": [
    "len(w[0])/len(w[1])"
   ]
  },
  {
   "cell_type": "code",
   "execution_count": null,
   "metadata": {},
   "outputs": [],
   "source": [
    "def filtro(t, lH, H, M):\n",
    "    tmax = t\n",
    "    LH = [ x for x in lH  if (x[0] + x[1] > tmax) & (x[0]< tmax)]\n",
    "    HH = [ x for x in H if ((x + 144 > tmax) & (x < tmax))]\n",
    "    MM = [ x for x in M if ((x + 24 > tmax) & (x < tmax))]\n",
    "    return [LH, HH,   MM]    "
   ]
  },
  {
   "cell_type": "code",
   "execution_count": null,
   "metadata": {},
   "outputs": [],
   "source": [
    "t, lH, H, M = iterar(1)\n",
    "filtro(t/2, lH, H, M)"
   ]
  },
  {
   "cell_type": "code",
   "execution_count": null,
   "metadata": {},
   "outputs": [],
   "source": [
    "t"
   ]
  },
  {
   "cell_type": "code",
   "execution_count": null,
   "metadata": {},
   "outputs": [],
   "source": [
    "z = trayectoria(0)\n",
    "hmb = z[1]\n",
    "mch = z[2]\n",
    "listaH = [(0, z[0])]\n",
    "tm = max(max(hmb), max(mch))\n",
    "w = descendientes(hmb)\n",
    "listaH = listaH + list(zip(hmb,w[0]))\n",
    "hmb1 = hmb + w[1]\n",
    "mch1 = mch + w[2]"
   ]
  },
  {
   "cell_type": "code",
   "execution_count": null,
   "metadata": {},
   "outputs": [],
   "source": [
    "hmb"
   ]
  },
  {
   "cell_type": "code",
   "execution_count": null,
   "metadata": {},
   "outputs": [],
   "source": [
    "hmb1"
   ]
  },
  {
   "cell_type": "code",
   "execution_count": null,
   "metadata": {},
   "outputs": [],
   "source": [
    "w[0]"
   ]
  },
  {
   "cell_type": "code",
   "execution_count": null,
   "metadata": {},
   "outputs": [],
   "source": [
    "listaH"
   ]
  },
  {
   "cell_type": "code",
   "execution_count": null,
   "metadata": {},
   "outputs": [],
   "source": [
    "[w[1],w[0]]"
   ]
  },
  {
   "cell_type": "code",
   "execution_count": null,
   "metadata": {},
   "outputs": [],
   "source": [
    "[hmb, w[2]]"
   ]
  },
  {
   "cell_type": "code",
   "execution_count": null,
   "metadata": {},
   "outputs": [],
   "source": [
    "listaH"
   ]
  },
  {
   "cell_type": "code",
   "execution_count": null,
   "metadata": {},
   "outputs": [],
   "source": [
    "m = iterar(0)"
   ]
  },
  {
   "cell_type": "code",
   "execution_count": null,
   "metadata": {},
   "outputs": [],
   "source": [
    "m[0]"
   ]
  },
  {
   "cell_type": "code",
   "execution_count": null,
   "metadata": {},
   "outputs": [],
   "source": [
    "m[1]"
   ]
  },
  {
   "cell_type": "code",
   "execution_count": null,
   "metadata": {},
   "outputs": [],
   "source": [
    "m[2]"
   ]
  },
  {
   "cell_type": "code",
   "execution_count": null,
   "metadata": {},
   "outputs": [],
   "source": [
    "z = trayectoria(0)\n",
    "hmb = z[1]\n",
    "mch = z[2]"
   ]
  },
  {
   "cell_type": "code",
   "execution_count": null,
   "metadata": {},
   "outputs": [],
   "source": [
    "hmb"
   ]
  },
  {
   "cell_type": "code",
   "execution_count": null,
   "metadata": {},
   "outputs": [],
   "source": [
    "mch"
   ]
  },
  {
   "cell_type": "code",
   "execution_count": null,
   "metadata": {},
   "outputs": [],
   "source": [
    "w = descendientes(hmb)"
   ]
  },
  {
   "cell_type": "code",
   "execution_count": null,
   "metadata": {},
   "outputs": [],
   "source": [
    "hmb+w[1]"
   ]
  },
  {
   "cell_type": "code",
   "execution_count": null,
   "metadata": {},
   "outputs": [],
   "source": [
    "mch + w[2]"
   ]
  },
  {
   "cell_type": "code",
   "execution_count": null,
   "metadata": {},
   "outputs": [],
   "source": [
    "z = trayectoria(0)\n",
    "tmax = 0\n",
    "hmb = [0]+ z[1] \n",
    "mch = z[2]\n",
    "listaH = [(0, z[0])]\n",
    "[len(hmb), len(mch)]\n",
    "w = descendientes(hmb)\n",
    "hmb = hmb + w[1]\n",
    "mch = mch + w[2]"
   ]
  },
  {
   "cell_type": "code",
   "execution_count": null,
   "metadata": {},
   "outputs": [],
   "source": [
    "[len(hmb), len(mch)]"
   ]
  },
  {
   "cell_type": "code",
   "execution_count": null,
   "metadata": {},
   "outputs": [],
   "source": [
    "hmb"
   ]
  },
  {
   "cell_type": "code",
   "execution_count": null,
   "metadata": {},
   "outputs": [],
   "source": [
    "tmax = z[0]\n",
    "Hh = [ x for x in z[1] if (x[0] + x[1] > tmax) & (x[0]< tmax)]"
   ]
  },
  {
   "cell_type": "code",
   "execution_count": null,
   "metadata": {},
   "outputs": [],
   "source": [
    "Hh"
   ]
  },
  {
   "cell_type": "code",
   "execution_count": null,
   "metadata": {},
   "outputs": [],
   "source": [
    "z[2]"
   ]
  },
  {
   "cell_type": "code",
   "execution_count": null,
   "metadata": {},
   "outputs": [],
   "source": [
    " \n",
    "tmax = z[0]/3\n",
    "Hh = [ x for x in z[1] if (x[0] + x[1] > tmax) & (x[0]< tmax)]\n",
    "Mm = [ x for x in z[3] if ((x + 24 > tmax) & (x < tmax))]\n",
    "(tmax, len(Hh), len(Mm))"
   ]
  },
  {
   "cell_type": "code",
   "execution_count": null,
   "metadata": {},
   "outputs": [],
   "source": [
    "z = iterar(0) \n",
    "tmax =  max([x[0] for x in z[0]])\n",
    "Hh = [ x for x in z[0] if (x[0] + x[1] > tmax) & (x[0]< tmax)]\n",
    "Mm = [ x for x in z[2] if ((x + 24 > tmax) & (x < tmax))]\n",
    "(tmax, len(Hh), len(Mm))"
   ]
  },
  {
   "cell_type": "code",
   "execution_count": null,
   "metadata": {},
   "outputs": [],
   "source": [
    "lista = z[0]\n",
    "ejex = [x[0] for x in lista]\n",
    "ejey = [x[1] for x in lista]\n",
    "[max(ejex), max(ejey)]"
   ]
  },
  {
   "cell_type": "code",
   "execution_count": null,
   "metadata": {},
   "outputs": [],
   "source": [
    "len(ejex)"
   ]
  },
  {
   "cell_type": "code",
   "execution_count": null,
   "metadata": {},
   "outputs": [],
   "source": [
    "fig = plt.figure(figsize=(30,10))\n",
    "ax = fig.add_subplot(111)\n",
    "ax.scatter(ejex, ejey)\n",
    "plt.show()"
   ]
  },
  {
   "cell_type": "code",
   "execution_count": null,
   "metadata": {},
   "outputs": [],
   "source": [
    "\n",
    "z= trayectoria(0)\n",
    "hmb = z[1]\n",
    "mch  = z[2]\n",
    "listaH = [(0, z[0])]\n",
    "z = descendientes(hmb)\n",
    " "
   ]
  },
  {
   "cell_type": "code",
   "execution_count": null,
   "metadata": {},
   "outputs": [],
   "source": [
    " "
   ]
  },
  {
   "cell_type": "code",
   "execution_count": null,
   "metadata": {},
   "outputs": [],
   "source": []
  },
  {
   "cell_type": "code",
   "execution_count": null,
   "metadata": {},
   "outputs": [],
   "source": [
    "z[0]"
   ]
  },
  {
   "cell_type": "code",
   "execution_count": null,
   "metadata": {},
   "outputs": [],
   "source": [
    "def hato():\n",
    "    k = 0\n",
    "    hg0 = hijos(0.0)[1]\n",
    "    z= descendientes(hg0)\n",
    "    t10 = max(z[1][-1], z[2][-1])\n",
    "    return(t10)\n",
    "hato()   "
   ]
  },
  {
   "cell_type": "code",
   "execution_count": null,
   "metadata": {},
   "outputs": [],
   "source": [
    "hmb = hijos(0.0)[1]\n",
    "hmb = descendencia(hmb)[1]\n",
    "z = descendencia(hmb)"
   ]
  },
  {
   "cell_type": "code",
   "execution_count": null,
   "metadata": {},
   "outputs": [],
   "source": [
    "def suc(x):\n",
    "    w = [[k[0]+x[0], x[1],k[1]] for k in desc()]\n",
    "    a = w[0] \n",
    "    s = a[0] -x[0]\n",
    "    w.append(  [x[0]+s, x[1]+s, 1]) \n",
    "    return w"
   ]
  },
  {
   "cell_type": "code",
   "execution_count": null,
   "metadata": {},
   "outputs": [],
   "source": [
    "def hijos(lH):\n",
    "    lst = [suc(x) for x in lH]\n",
    "    return list(it.chain.from_iterable(lst))"
   ]
  },
  {
   "cell_type": "code",
   "execution_count": null,
   "metadata": {},
   "outputs": [],
   "source": [
    "hijos([[50,30]])"
   ]
  },
  {
   "cell_type": "code",
   "execution_count": null,
   "metadata": {},
   "outputs": [],
   "source": [
    "list(it.chain.from_iterable(A))"
   ]
  },
  {
   "cell_type": "code",
   "execution_count": null,
   "metadata": {},
   "outputs": [],
   "source": [
    "x =[50,30]\n",
    "w = [[k[0]+x[0], x[1],k[1]] for k in desc()]\n",
    "l1 = len(w)\n",
    "a = w[0] \n",
    "s = a[0] -x[0]\n",
    "w.append(  [x[0]+s, x[1]+s, 1]) \n",
    "w"
   ]
  },
  {
   "cell_type": "code",
   "execution_count": null,
   "metadata": {},
   "outputs": [],
   "source": [
    "w"
   ]
  },
  {
   "cell_type": "code",
   "execution_count": null,
   "metadata": {},
   "outputs": [],
   "source": [
    "mS = np.random.normal(muMsex, sigmaMsex)\n",
    "np.random.normal(muNp, sigmaNp) \n",
    "numP =  int(np.random.normal(muNp, sigmaNp))\n",
    "z = np.random.normal(muTep, sigmaTep,numP)\n",
    "sex = np.random.randint(2, size=numP)\n",
    "z = mS+np.cumsum(z)\n",
    "x = [5, 9, sex[0]]"
   ]
  },
  {
   "cell_type": "code",
   "execution_count": null,
   "metadata": {},
   "outputs": [],
   "source": [
    " w = [[z[j]+x[0], x[1], sex[j]] for j in range(numP)]"
   ]
  },
  {
   "cell_type": "code",
   "execution_count": null,
   "metadata": {},
   "outputs": [],
   "source": [
    "w"
   ]
  },
  {
   "cell_type": "code",
   "execution_count": null,
   "metadata": {},
   "outputs": [],
   "source": [
    "type(w)"
   ]
  },
  {
   "cell_type": "code",
   "execution_count": null,
   "metadata": {},
   "outputs": [],
   "source": []
  }
 ],
 "metadata": {
  "kernelspec": {
   "display_name": "Python 3",
   "language": "python",
   "name": "python3"
  },
  "language_info": {
   "codemirror_mode": {
    "name": "ipython",
    "version": 3
   },
   "file_extension": ".py",
   "mimetype": "text/x-python",
   "name": "python",
   "nbconvert_exporter": "python",
   "pygments_lexer": "ipython3",
   "version": "3.5.5"
  }
 },
 "nbformat": 4,
 "nbformat_minor": 2
}
