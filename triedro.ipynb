{
 "cells": [
  {
   "cell_type": "markdown",
   "metadata": {},
   "source": [
    "\n",
    "# Triedro ortornormal en una esfera"
   ]
  },
  {
   "cell_type": "code",
   "execution_count": 1,
   "metadata": {},
   "outputs": [],
   "source": [
    "import sympy as sp\n",
    "sp.init_printing(use_unicode=True)\n"
   ]
  },
  {
   "cell_type": "markdown",
   "metadata": {},
   "source": [
    "![title](sphericalCoord.png)\n"
   ]
  },
  {
   "cell_type": "markdown",
   "metadata": {},
   "source": [
    " $$P  = (\\sin{\\phi}\\, \\cos \\theta, \\sin{\\phi}\\, \\sin \\theta,  \\cos{\\phi})$$ \n",
    " \n",
    " $$P^{*} = (\\cos{\\phi}\\, \\cos \\theta, \\cos{\\phi}\\, \\sin \\theta,  -\\sin{\\phi})$$ "
   ]
  },
  {
   "cell_type": "markdown",
   "metadata": {},
   "source": [
    "## Matriz de rotación de un ángulo $\\alpha$ alrededor del eje $P$ \n",
    "\n",
    "$P = (a,b,c)^T$"
   ]
  },
  {
   "cell_type": "markdown",
   "metadata": {},
   "source": [
    "$$Rt(\\alpha) = \\cos{\\alpha}\\, I + \\sin{\\alpha}\\left[ P\\right]_{\\times} + (1-\\cos{\\alpha})\\, P\\, P^{T}$$\n",
    "\n",
    "$$ \n",
    "\\left[ P\\right]_{\\times} = \n",
    "\\begin{pmatrix} \n",
    "0 & -c & b\\\\\n",
    "c & 0 & -a\\\\ \n",
    "-b & a & 0\\\\\n",
    "\\end{pmatrix}\n",
    "$$"
   ]
  },
  {
   "cell_type": "code",
   "execution_count": 2,
   "metadata": {},
   "outputs": [],
   "source": [
    "alpha, beta = sp.Symbol(r'\\alpha'), sp.Symbol(r'\\beta') \n",
    "theta, phi =  sp.Symbol(r'\\theta'), sp.Symbol(r'\\phi')"
   ]
  },
  {
   "cell_type": "code",
   "execution_count": 25,
   "metadata": {},
   "outputs": [],
   "source": [
    "Id = sp.eye(3)\n",
    "a,b, c = sp.symbols(\"a b c\")\n",
    "uu = sp.Matrix([a,b,c])\n",
    "P = uu.subs([(a, sp.sin(phi)*sp.cos(theta)),(b, sp.sin(phi)*sp.sin(theta)), (c, sp.cos(phi)) ])\n",
    "Ps = sp.simplify(P.subs(phi, phi + sp.pi/2))\n",
    "rr  = sp.Matrix([[0,-c,b],[c,0,-a], [-b,a,0]]) \n",
    "R  = rr.subs([(a, sp.sin(phi)*sp.cos(theta)),(b, sp.sin(phi)*sp.sin(theta)), (c, sp.cos(phi)) ])\n",
    "Rt = sp.cos(alpha)*Id +sp.sin(alpha)*R + (1-sp.cos(alpha))*(Ps*Ps.T)\n"
   ]
  },
  {
   "cell_type": "markdown",
   "metadata": {},
   "source": [
    "## Parametrización del triedro de vectores ortogonales en una esfera"
   ]
  },
  {
   "cell_type": "markdown",
   "metadata": {},
   "source": [
    "El triedro está parametrizado por la matrix $Q = Q(\\theta, \\phi, \\alpha)$\n",
    "$$ \n",
    "Q = \\left(P, Rt(\\alpha)\\, P^{*}, P \\times \\left(Rt(\\alpha)\\, P^{*}\\right)\\right)\n",
    "$$\n"
   ]
  },
  {
   "cell_type": "code",
   "execution_count": 20,
   "metadata": {},
   "outputs": [
    {
     "data": {
      "image/png": "[encoded data removed]",
      "text/latex": [
       "$$\\left[\\begin{matrix}\\sin{\\left (\\phi \\right )} \\cos{\\left (\\theta \\right )}\\\\\\sin{\\left (\\phi \\right )} \\sin{\\left (\\theta \\right )}\\\\\\cos{\\left (\\phi \\right )}\\end{matrix}\\right]$$"
      ],
      "text/plain": [
       "⎡sin(\\phi)⋅cos(\\theta)⎤\n",
       "⎢                     ⎥\n",
       "⎢sin(\\phi)⋅sin(\\theta)⎥\n",
       "⎢                     ⎥\n",
       "⎣      cos(\\phi)      ⎦"
      ]
     },
     "execution_count": 20,
     "metadata": {},
     "output_type": "execute_result"
    }
   ],
   "source": [
    "P"
   ]
  },
  {
   "cell_type": "code",
   "execution_count": 21,
   "metadata": {},
   "outputs": [
    {
     "data": {
      "image/png": "[encoded data removed]",
      "text/latex": [
       "$$\\left[\\begin{matrix}\\cos{\\left (\\phi \\right )} \\cos{\\left (\\theta \\right )}\\\\\\sin{\\left (\\theta \\right )} \\cos{\\left (\\phi \\right )}\\\\- \\sin{\\left (\\phi \\right )}\\end{matrix}\\right]$$"
      ],
      "text/plain": [
       "⎡cos(\\phi)⋅cos(\\theta)⎤\n",
       "⎢                     ⎥\n",
       "⎢sin(\\theta)⋅cos(\\phi)⎥\n",
       "⎢                     ⎥\n",
       "⎣     -sin(\\phi)      ⎦"
      ]
     },
     "execution_count": 21,
     "metadata": {},
     "output_type": "execute_result"
    }
   ],
   "source": [
    "Ps"
   ]
  },
  {
   "cell_type": "code",
   "execution_count": 34,
   "metadata": {},
   "outputs": [],
   "source": [
    "H = sp.cos(alpha)*Ps + sp.sin(alpha)*(P.cross(Ps))\n",
    "K = sp.simplify(P.cross(H))"
   ]
  },
  {
   "cell_type": "code",
   "execution_count": 39,
   "metadata": {},
   "outputs": [
    {
     "data": {
      "image/png": "[encoded data removed]",
      "text/latex": [
       "$$\\left[\\begin{matrix}- \\sin{\\left (\\alpha \\right )} \\cos{\\left (\\phi \\right )} \\cos{\\left (\\theta \\right )} - \\sin{\\left (\\theta \\right )} \\cos{\\left (\\alpha \\right )}\\\\- \\sin{\\left (\\alpha \\right )} \\sin{\\left (\\theta \\right )} \\cos{\\left (\\phi \\right )} + \\cos{\\left (\\alpha \\right )} \\cos{\\left (\\theta \\right )}\\\\\\sin{\\left (\\alpha \\right )} \\sin{\\left (\\phi \\right )}\\end{matrix}\\right]$$"
      ],
      "text/plain": [
       "⎡-sin(\\alpha)⋅cos(\\phi)⋅cos(\\theta) - sin(\\theta)⋅cos(\\alpha)⎤\n",
       "⎢                                                            ⎥\n",
       "⎢-sin(\\alpha)⋅sin(\\theta)⋅cos(\\phi) + cos(\\alpha)⋅cos(\\theta)⎥\n",
       "⎢                                                            ⎥\n",
       "⎣                   sin(\\alpha)⋅sin(\\phi)                    ⎦"
      ]
     },
     "execution_count": 39,
     "metadata": {},
     "output_type": "execute_result"
    }
   ],
   "source": [
    "K"
   ]
  },
  {
   "cell_type": "code",
   "execution_count": null,
   "metadata": {},
   "outputs": [],
   "source": []
  },
  {
   "cell_type": "code",
   "execution_count": 35,
   "metadata": {},
   "outputs": [],
   "source": [
    "Q = sp.Matrix([[P[0],H[0], K[0]], [P[1],H[1], K[1]], [P[2],H[2], K[2]]])"
   ]
  },
  {
   "cell_type": "code",
   "execution_count": 36,
   "metadata": {},
   "outputs": [
    {
     "data": {
      "image/png": "[encoded data removed]",
      "text/latex": [
       "$$1$$"
      ],
      "text/plain": [
       "1"
      ]
     },
     "execution_count": 36,
     "metadata": {},
     "output_type": "execute_result"
    }
   ],
   "source": [
    "sp.simplify(Q.det())"
   ]
  },
  {
   "cell_type": "code",
   "execution_count": 37,
   "metadata": {},
   "outputs": [
    {
     "data": {
      "image/png": "[encoded data removed]",
      "text/latex": [
       "$$\\left[\\begin{matrix}1 & 0 & 0\\\\0 & 1 & 0\\\\0 & 0 & 1\\end{matrix}\\right]$$"
      ],
      "text/plain": [
       "⎡1  0  0⎤\n",
       "⎢       ⎥\n",
       "⎢0  1  0⎥\n",
       "⎢       ⎥\n",
       "⎣0  0  1⎦"
      ]
     },
     "execution_count": 37,
     "metadata": {},
     "output_type": "execute_result"
    }
   ],
   "source": [
    "sp.simplify(Q*Q.T)"
   ]
  },
  {
   "cell_type": "code",
   "execution_count": null,
   "metadata": {},
   "outputs": [],
   "source": []
  },
  {
   "cell_type": "code",
   "execution_count": null,
   "metadata": {},
   "outputs": [],
   "source": []
  }
 ],
 "metadata": {
  "kernelspec": {
   "display_name": "Python 3",
   "language": "python",
   "name": "python3"
  },
  "language_info": {
   "codemirror_mode": {
    "name": "ipython",
    "version": 3
   },
   "file_extension": ".py",
   "mimetype": "text/x-python",
   "name": "python",
   "nbconvert_exporter": "python",
   "pygments_lexer": "ipython3",
   "version": "3.5.5"
  }
 },
 "nbformat": 4,
 "nbformat_minor": 2
}
