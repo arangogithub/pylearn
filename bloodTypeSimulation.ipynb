{
 "cells": [
  {
   "cell_type": "markdown",
   "metadata": {},
   "source": [
    "# Blood type simulation\n",
    "-------------------------"
   ]
  },
  {
   "cell_type": "code",
   "execution_count": 1,
   "metadata": {
    "collapsed": false
   },
   "outputs": [],
   "source": [
    "import numpy as np\n",
    "import matplotlib.pyplot as plt"
   ]
  },
  {
   "cell_type": "markdown",
   "metadata": {},
   "source": [
    "We first bring about the initial genotype population assuming theres is a frequency p = [p0, p1, p3] in the population of the alleles [O, A, B] respectively. Any genotype element is pair of two alleles. The phenotypical characteristic (blood type) of a given individual depends on the individual genotype according to the rule:\n",
    "\n",
    "| Genotype|Blood type|  \n",
    "|---------|:------:|\n",
    "|[0,0]|0|\n",
    "|[0,1]|1|\n",
    "|[1,0]|1|\n",
    "|[1,1]|1|\n",
    "|[0,2]|2|\n",
    "|[2,0]|2|\n",
    "|[2,2]|2|\n",
    "|[1,2]|3|\n",
    "|[2,1]|3|\n",
    "\n",
    "\n",
    "In the above table the alleles  O,A,B  are identifyed with 0,1,2 respectively whereas the blood types O,A,B, AB respectively correspond to 0,1,2,3.\n",
    "\n",
    "More details in [Wikipedia](https://en.wikipedia.org/wiki/Blood_type)"
   ]
  },
  {
   "cell_type": "code",
   "execution_count": 13,
   "metadata": {
    "collapsed": false
   },
   "outputs": [],
   "source": [
    "np.random.seed(13481)\n",
    "popul= 15\n",
    "init_genotype = [np.random.choice(3, 2, p=[0.65, 0.15, 0.2]) for i in range(2*(popul//2))]"
   ]
  },
  {
   "cell_type": "code",
   "execution_count": 14,
   "metadata": {
    "collapsed": false
   },
   "outputs": [],
   "source": [
    "def blood_type(gen): \n",
    "    if gen[0]+gen[1] == 3: return 3\n",
    "    else: return max(gen)"
   ]
  },
  {
   "cell_type": "markdown",
   "metadata": {},
   "source": [
    "To keep it simple,  we allow randomly pairing of any two different individuals. "
   ]
  },
  {
   "cell_type": "code",
   "execution_count": 15,
   "metadata": {
    "collapsed": true
   },
   "outputs": [],
   "source": [
    "def pop_random(lst):\n",
    "    idx = np.random.choice(len(lst))\n",
    "    return lst.pop(idx)\n",
    "\n",
    "def couples(popul):\n",
    "    copy_list = list(popul)\n",
    "    if (len(popul)%2==1): copy_list=copy_list[1:]\n",
    "    pairs = []\n",
    "    while copy_list:\n",
    "        rand1 = pop_random(copy_list)\n",
    "        rand2 = pop_random(copy_list)\n",
    "        pair = rand1, rand2\n",
    "        pairs.append(pair)\n",
    "    return pairs"
   ]
  },
  {
   "cell_type": "markdown",
   "metadata": {},
   "source": [
    "Each parent (mother and father) provides exactly one randomly chosen allele from its genotype to build up the genotype of the child."
   ]
  },
  {
   "cell_type": "code",
   "execution_count": 16,
   "metadata": {
    "collapsed": false
   },
   "outputs": [],
   "source": [
    "def child(pair):\n",
    "    mth, fth = pair[0], pair[1]\n",
    "    e = np.random.choice(2,2)\n",
    "    return [mth[e[0]], fth[e[1]]]\n",
    "\n",
    "def new_generation(popul):\n",
    "    children = [child(x) for x in couples(popul)]\n",
    "    return children + popul"
   ]
  },
  {
   "cell_type": "code",
   "execution_count": 17,
   "metadata": {
    "collapsed": true
   },
   "outputs": [],
   "source": [
    "def nth_generation(n, init_popul):\n",
    "    k = 0\n",
    "    popul = init_popul\n",
    "    while k < n: \n",
    "        popul = new_generation(popul)\n",
    "        k = k+1\n",
    "    return popul   "
   ]
  },
  {
   "cell_type": "code",
   "execution_count": 18,
   "metadata": {
    "collapsed": false
   },
   "outputs": [
    {
     "data": {
      "text/plain": [
       "340462"
      ]
     },
     "execution_count": 18,
     "metadata": {},
     "output_type": "execute_result"
    }
   ],
   "source": [
    "generation25 = nth_generation(25, init_genotype)\n",
    "len(generation25)"
   ]
  },
  {
   "cell_type": "markdown",
   "metadata": {},
   "source": [
    "## Dynamical analysis"
   ]
  },
  {
   "cell_type": "code",
   "execution_count": 19,
   "metadata": {
    "collapsed": false
   },
   "outputs": [],
   "source": [
    "n = 25\n",
    "data = []\n",
    "k = 0\n",
    "popul = init_genotype\n",
    "fenotype = [blood_type(x) for x in popul]\n",
    "hist, bin_edges = np.histogram(fenotype,bins = 4)\n",
    "hist = hist/len(fenotype)\n",
    "data.append(hist)\n",
    "while k < n: \n",
    "        popul = new_generation(popul)\n",
    "        fenotype = [blood_type(x) for x in popul]\n",
    "        hist, bin_edges = np.histogram(fenotype,bins = 4)\n",
    "        hist = hist/len(fenotype)\n",
    "        data.append(hist)\n",
    "        k = k+1 "
   ]
  },
  {
   "cell_type": "code",
   "execution_count": 20,
   "metadata": {
    "collapsed": false
   },
   "outputs": [],
   "source": [
    "O_type = [list(x) for x in zip(*data)][0]\n",
    "A_type = [list(x) for x in zip(*data)][1]\n",
    "B_type = [list(x) for x in zip(*data)][2]\n",
    "AB_type = [list(x) for x in zip(*data)][3]"
   ]
  },
  {
   "cell_type": "code",
   "execution_count": 21,
   "metadata": {
    "collapsed": false,
    "scrolled": true
   },
   "outputs": [
    {
     "data": {
      "image/png": "[encoded data removed]",
      "text/plain": [
       "<matplotlib.figure.Figure at 0x7fad7123a2e8>"
      ]
     },
     "metadata": {},
     "output_type": "display_data"
    }
   ],
   "source": [
    "plt.plot(O_type, label='O')\n",
    "plt.plot(A_type, label='A')\n",
    "plt.plot(B_type, label='B')\n",
    "plt.plot(AB_type, label='AB')\n",
    "plt.ylabel('Probability')\n",
    "plt.legend()\n",
    "plt.show()"
   ]
  },
  {
   "cell_type": "code",
   "execution_count": null,
   "metadata": {
    "collapsed": true
   },
   "outputs": [],
   "source": []
  },
  {
   "cell_type": "code",
   "execution_count": 22,
   "metadata": {
    "collapsed": false
   },
   "outputs": [
    {
     "data": {
      "image/png": "[encoded data removed]",
      "text/plain": [
       "<matplotlib.figure.Figure at 0x7fad7123a668>"
      ]
     },
     "metadata": {},
     "output_type": "display_data"
    }
   ],
   "source": [
    "plt.hist(fenotype, normed=True, bins=4)\n",
    "plt.ylabel('Probability')\n",
    "plt.show()"
   ]
  },
  {
   "cell_type": "code",
   "execution_count": null,
   "metadata": {
    "collapsed": true
   },
   "outputs": [],
   "source": []
  }
 ],
 "metadata": {
  "kernelspec": {
   "display_name": "Python 3",
   "language": "python",
   "name": "python3"
  },
  "language_info": {
   "codemirror_mode": {
    "name": "ipython",
    "version": 3
   },
   "file_extension": ".py",
   "mimetype": "text/x-python",
   "name": "python",
   "nbconvert_exporter": "python",
   "pygments_lexer": "ipython3",
   "version": "3.5.4"
  }
 },
 "nbformat": 4,
 "nbformat_minor": 1
}
