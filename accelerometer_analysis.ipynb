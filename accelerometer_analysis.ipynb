{
 "cells": [
  {
   "cell_type": "code",
   "execution_count": 16,
   "metadata": {
    "collapsed": true
   },
   "outputs": [],
   "source": [
    "%matplotlib inline\n",
    "import numpy as np\n",
    "import matplotlib.pyplot as plt\n",
    "import pandas as pd"
   ]
  },
  {
   "cell_type": "code",
   "execution_count": 19,
   "metadata": {
    "collapsed": false
   },
   "outputs": [
    {
     "name": "stderr",
     "output_type": "stream",
     "text": [
      "/home/jaime/miniconda3/lib/python3.5/site-packages/numpy/lib/function_base.py:3834: RuntimeWarning: Invalid value encountered in percentile\n",
      "  RuntimeWarning)\n"
     ]
    },
    {
     "data": {
      "text/html": [
       "<div>\n",
       "<table border=\"1\" class=\"dataframe\">\n",
       "  <thead>\n",
       "    <tr style=\"text-align: right;\">\n",
       "      <th></th>\n",
       "      <th>time</th>\n",
       "      <th>x</th>\n",
       "      <th>y</th>\n",
       "      <th>z</th>\n",
       "      <th>gforce</th>\n",
       "    </tr>\n",
       "  </thead>\n",
       "  <tbody>\n",
       "    <tr>\n",
       "      <th>count</th>\n",
       "      <td>284412.000000</td>\n",
       "      <td>284412.000000</td>\n",
       "      <td>284412.000000</td>\n",
       "      <td>284412.000000</td>\n",
       "      <td>284411.000000</td>\n",
       "    </tr>\n",
       "    <tr>\n",
       "      <th>mean</th>\n",
       "      <td>2227.965419</td>\n",
       "      <td>0.002360</td>\n",
       "      <td>0.929407</td>\n",
       "      <td>-0.368084</td>\n",
       "      <td>1.004364</td>\n",
       "    </tr>\n",
       "    <tr>\n",
       "      <th>std</th>\n",
       "      <td>1285.501652</td>\n",
       "      <td>0.034405</td>\n",
       "      <td>0.057360</td>\n",
       "      <td>0.085665</td>\n",
       "      <td>0.047954</td>\n",
       "    </tr>\n",
       "    <tr>\n",
       "      <th>min</th>\n",
       "      <td>0.096000</td>\n",
       "      <td>-1.196000</td>\n",
       "      <td>-0.532000</td>\n",
       "      <td>-1.997000</td>\n",
       "      <td>0.097000</td>\n",
       "    </tr>\n",
       "    <tr>\n",
       "      <th>25%</th>\n",
       "      <td>1115.271750</td>\n",
       "      <td>-0.008000</td>\n",
       "      <td>0.911000</td>\n",
       "      <td>-0.395000</td>\n",
       "      <td>NaN</td>\n",
       "    </tr>\n",
       "    <tr>\n",
       "      <th>50%</th>\n",
       "      <td>2228.624500</td>\n",
       "      <td>0.000000</td>\n",
       "      <td>0.938000</td>\n",
       "      <td>-0.364000</td>\n",
       "      <td>NaN</td>\n",
       "    </tr>\n",
       "    <tr>\n",
       "      <th>75%</th>\n",
       "      <td>3341.964250</td>\n",
       "      <td>0.016000</td>\n",
       "      <td>0.958000</td>\n",
       "      <td>-0.321000</td>\n",
       "      <td>NaN</td>\n",
       "    </tr>\n",
       "    <tr>\n",
       "      <th>max</th>\n",
       "      <td>4454.533000</td>\n",
       "      <td>1.997000</td>\n",
       "      <td>2.001000</td>\n",
       "      <td>1.309000</td>\n",
       "      <td>3.326000</td>\n",
       "    </tr>\n",
       "  </tbody>\n",
       "</table>\n",
       "</div>"
      ],
      "text/plain": [
       "                time              x              y              z  \\\n",
       "count  284412.000000  284412.000000  284412.000000  284412.000000   \n",
       "mean     2227.965419       0.002360       0.929407      -0.368084   \n",
       "std      1285.501652       0.034405       0.057360       0.085665   \n",
       "min         0.096000      -1.196000      -0.532000      -1.997000   \n",
       "25%      1115.271750      -0.008000       0.911000      -0.395000   \n",
       "50%      2228.624500       0.000000       0.938000      -0.364000   \n",
       "75%      3341.964250       0.016000       0.958000      -0.321000   \n",
       "max      4454.533000       1.997000       2.001000       1.309000   \n",
       "\n",
       "              gforce  \n",
       "count  284411.000000  \n",
       "mean        1.004364  \n",
       "std         0.047954  \n",
       "min         0.097000  \n",
       "25%              NaN  \n",
       "50%              NaN  \n",
       "75%              NaN  \n",
       "max         3.326000  "
      ]
     },
     "execution_count": 19,
     "metadata": {},
     "output_type": "execute_result"
    }
   ],
   "source": [
    "Data =pd.read_csv('accel_data.csv', index_col=False, header=0)\n",
    "Data.columns = ['time', 'x', 'y', 'z', 'gforce']\n",
    "Data.describe()"
   ]
  },
  {
   "cell_type": "code",
   "execution_count": 20,
   "metadata": {
    "collapsed": false
   },
   "outputs": [
    {
     "data": {
      "text/plain": [
       "<matplotlib.text.Text at 0x7f9cce3be908>"
      ]
     },
     "execution_count": 20,
     "metadata": {},
     "output_type": "execute_result"
    },
    {
     "data": {
      "image/png": "[encoded data removed]",
      "text/plain": [
       "<matplotlib.figure.Figure at 0x7f9cce41c518>"
      ]
     },
     "metadata": {},
     "output_type": "display_data"
    }
   ],
   "source": [
    "Data.gforce.plot(figsize=(12,4))\n",
    "plt.title('g-force')\n",
    "plt.ylabel('%')"
   ]
  },
  {
   "cell_type": "code",
   "execution_count": null,
   "metadata": {
    "collapsed": true
   },
   "outputs": [],
   "source": []
  }
 ],
 "metadata": {
  "kernelspec": {
   "display_name": "Python 3",
   "language": "python",
   "name": "python3"
  },
  "language_info": {
   "codemirror_mode": {
    "name": "ipython",
    "version": 3
   },
   "file_extension": ".py",
   "mimetype": "text/x-python",
   "name": "python",
   "nbconvert_exporter": "python",
   "pygments_lexer": "ipython3",
   "version": "3.5.2"
  }
 },
 "nbformat": 4,
 "nbformat_minor": 1
}
