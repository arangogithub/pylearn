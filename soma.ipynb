{
 "cells": [
  {
   "cell_type": "markdown",
   "metadata": {},
   "source": [
    "# <center>  Soma cube </center>\n",
    "---------------------------\n",
    "\n",
    "<img src=\"soma.png\" width=\"200\">\n"
   ]
  },
  {
   "cell_type": "raw",
   "metadata": {},
   "source": []
  },
  {
   "cell_type": "markdown",
   "metadata": {},
   "source": []
  },
  {
   "cell_type": "code",
   "execution_count": 1,
   "metadata": {
    "collapsed": true
   },
   "outputs": [],
   "source": [
    "import itertools"
   ]
  },
  {
   "cell_type": "code",
   "execution_count": 2,
   "metadata": {
    "collapsed": true
   },
   "outputs": [],
   "source": [
    "ensemble = ['3','4','5']\n",
    "universe = itertools.product(ensemble,repeat = 6) "
   ]
  },
  {
   "cell_type": "code",
   "execution_count": 3,
   "metadata": {
    "collapsed": true
   },
   "outputs": [],
   "source": [
    "def check(vls):\n",
    "    masks = (23<= vls[0]*3 + vls[1]*4+ vls[2]*5<= 24)\n",
    "    maskp = vls[0]*vls[1]*vls[2]>0\n",
    "    mask0 = (2 <= vls[0]<= 3)\n",
    "    mask1 = (2 <= vls[1]<= 3)\n",
    "    mask2 = (1 <= vls[2]<= 2)\n",
    "    return masks & maskp & mask0 & mask1 & mask2"
   ]
  },
  {
   "cell_type": "code",
   "execution_count": 4,
   "metadata": {
    "collapsed": false
   },
   "outputs": [
    {
     "data": {
      "text/plain": [
       "150"
      ]
     },
     "execution_count": 4,
     "metadata": {},
     "output_type": "execute_result"
    }
   ],
   "source": [
    "outcomes= []\n",
    "for mssg in universe:\n",
    "    value = [mssg.count(letter) for letter in ensemble ]\n",
    "    if check(value): outcomes.append(mssg)\n",
    "len(outcomes)        "
   ]
  },
  {
   "cell_type": "code",
   "execution_count": 5,
   "metadata": {
    "collapsed": true
   },
   "outputs": [],
   "source": [
    "import json\n",
    "with open('dice_permutations.json') as data_file:    \n",
    "    dice_perm = json.load(data_file)"
   ]
  },
  {
   "cell_type": "code",
   "execution_count": 6,
   "metadata": {
    "collapsed": false
   },
   "outputs": [
    {
     "data": {
      "text/plain": [
       "[[0, 1, 5, 4, 3, 2],\n",
       " [0, 2, 5, 3, 1, 4],\n",
       " [0, 3, 5, 2, 1, 4],\n",
       " [0, 4, 5, 1, 3, 2],\n",
       " [1, 0, 4, 5, 2, 3],\n",
       " [1, 2, 4, 3, 5, 0],\n",
       " [1, 3, 4, 2, 5, 0],\n",
       " [1, 5, 4, 0, 2, 3],\n",
       " [2, 0, 3, 5, 4, 1],\n",
       " [2, 1, 3, 4, 0, 5],\n",
       " [2, 4, 3, 1, 0, 5],\n",
       " [2, 5, 3, 0, 4, 1],\n",
       " [3, 0, 2, 5, 1, 4],\n",
       " [3, 1, 2, 4, 5, 0],\n",
       " [3, 4, 2, 1, 0, 5],\n",
       " [3, 5, 2, 0, 4, 1],\n",
       " [4, 0, 1, 5, 3, 2],\n",
       " [4, 2, 1, 3, 0, 5],\n",
       " [4, 3, 1, 2, 5, 0],\n",
       " [4, 5, 1, 0, 2, 3],\n",
       " [5, 1, 0, 4, 2, 3],\n",
       " [5, 2, 0, 3, 4, 1],\n",
       " [5, 3, 0, 2, 1, 4],\n",
       " [5, 4, 0, 1, 3, 2]]"
      ]
     },
     "execution_count": 6,
     "metadata": {},
     "output_type": "execute_result"
    }
   ],
   "source": [
    "dice_perm"
   ]
  },
  {
   "cell_type": "code",
   "execution_count": 7,
   "metadata": {
    "collapsed": false
   },
   "outputs": [],
   "source": [
    "def reorder(x,perm):\n",
    "    return [ x[i] for i in perm]\n",
    "\n",
    "def x_class(x):\n",
    "    y = reorder(x,dice_perm[0])\n",
    "    return [reorder(y, perm) for perm in dice_perm]"
   ]
  },
  {
   "cell_type": "code",
   "execution_count": 76,
   "metadata": {
    "collapsed": false
   },
   "outputs": [
    {
     "data": {
      "text/plain": [
       "('3', '3', '4', '4', '4', '5')"
      ]
     },
     "execution_count": 76,
     "metadata": {},
     "output_type": "execute_result"
    }
   ],
   "source": [
    "x, y = outcomes[0],  outcomes[1]\n",
    "x"
   ]
  },
  {
   "cell_type": "code",
   "execution_count": 36,
   "metadata": {
    "collapsed": true
   },
   "outputs": [],
   "source": [
    "def check_equiv(x,y):\n",
    "    eq_class = x_class(x)\n",
    "    if (eq_class.count(y)>0): return True\n",
    "    else: return False"
   ]
  },
  {
   "cell_type": "code",
   "execution_count": 106,
   "metadata": {
    "collapsed": false
   },
   "outputs": [
    {
     "name": "stdout",
     "output_type": "stream",
     "text": [
      "{('3', '4', '4', '4', '5', '3'): 4, ('3', '3', '5', '5', '4', '4'): 12, ('3', '3', '4', '4', '4', '5'): 24, ('3', '3', '4', '5', '5', '4'): 16, ('3', '4', '3', '4', '4', '5'): 12, ('3', '3', '4', '5', '4', '4'): 20, ('3', '4', '3', '4', '5', '5'): 6, ('3', '4', '4', '5', '5', '3'): 8, ('3', '3', '4', '5', '4', '5'): 24, ('3', '3', '4', '4', '5', '5'): 12, ('3', '4', '3', '5', '4', '5'): 12}\n"
     ]
    },
    {
     "data": {
      "text/plain": [
       "11"
      ]
     },
     "execution_count": 106,
     "metadata": {},
     "output_type": "execute_result"
    }
   ],
   "source": [
    "sset = outcomes\n",
    "n = len(sset)\n",
    "clss_representers = dict()\n",
    "while len(sset)>0:\n",
    "    mask =  [check_equiv( list(sset[0]), list(sset[i])) for i in range(len(sset))]\n",
    "    flip_mask = [not i for i in mask]\n",
    "    clss = list(itertools.compress(sset, mask))\n",
    "    clss_representers[sset[0]]= len(clss)\n",
    "    sset = list(itertools.compress(sset, flip_mask))\n",
    "\n",
    "print(clss_representers)\n",
    "len(clss_representers)\n",
    "sum(clss_representers.values())\n",
    "#clss_representers.values()\n",
    "len(clss_representers)"
   ]
  },
  {
   "cell_type": "code",
   "execution_count": 15,
   "metadata": {
    "collapsed": false
   },
   "outputs": [
    {
     "name": "stdout",
     "output_type": "stream",
     "text": [
      "150\n"
     ]
    }
   ],
   "source": [
    "counts = dict()\n",
    "outcomes_t = [tuple(x) for x in outcomes]\n",
    "\n",
    "for x in outcomes_t:\n",
    "    if x not in counts:\n",
    "        counts[x] = counts.get(x,0)+1       \n",
    "print(len(counts))"
   ]
  },
  {
   "cell_type": "code",
   "execution_count": 29,
   "metadata": {
    "collapsed": false
   },
   "outputs": [],
   "source": [
    "def perm_parity(lst):\n",
    "    '''\\\n",
    "    Given a permutation of the digits 0..N in order as a list, \n",
    "    returns its parity (or sign): +1 for even parity; -1 for odd.\n",
    "    '''\n",
    "    parity = 1\n",
    "    for i in range(0,len(lst)-1):\n",
    "        if lst[i] != i:\n",
    "            parity *= -1\n",
    "            mn = min(range(i,len(lst)), key=lst.__getitem__)\n",
    "            lst[i],lst[mn] = lst[mn],lst[i]\n",
    "    return parity  "
   ]
  },
  {
   "cell_type": "code",
   "execution_count": null,
   "metadata": {
    "collapsed": true
   },
   "outputs": [],
   "source": [
    "msg1, msg2  = [0,1,5,4,3,2], [1,2,5,3,1,4]\n",
    "(perm_parity(msg1), perm_parity(msg2))"
   ]
  }
 ],
 "metadata": {
  "kernelspec": {
   "display_name": "Python 3",
   "language": "python",
   "name": "python3"
  },
  "language_info": {
   "codemirror_mode": {
    "name": "ipython",
    "version": 3
   },
   "file_extension": ".py",
   "mimetype": "text/x-python",
   "name": "python",
   "nbconvert_exporter": "python",
   "pygments_lexer": "ipython3",
   "version": "3.5.2"
  }
 },
 "nbformat": 4,
 "nbformat_minor": 1
}
